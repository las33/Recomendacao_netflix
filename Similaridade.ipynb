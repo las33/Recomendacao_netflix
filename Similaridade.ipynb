{
 "cells": [
  {
   "cell_type": "code",
   "execution_count": 70,
   "metadata": {
    "scrolled": true
   },
   "outputs": [
    {
     "name": "stdout",
     "output_type": "stream",
     "text": [
      "[{'id': '13', 'media': 3.5, 'user_similarity': [], 'filmes': [{'id': 20, 'avaliacao': 4, 'ano': 2012, 'mes': 12, 'dia': 3}]}, {'id': '14', 'media': 3.5, 'user_similarity': [], 'filmes': [{'id': 20, 'avaliacao': 4, 'ano': 2012, 'mes': 12, 'dia': 3}]}, {'id': '16', 'media': 3.5, 'user_similarity': [], 'filmes': [{'id': 20, 'avaliacao': 4, 'ano': 2012, 'mes': 12, 'dia': 3}]}, {'id': '17', 'media': 1.5, 'user_similarity': [], 'filmes': [{'id': 40, 'avaliacao': 1, 'ano': 2012, 'mes': 12, 'dia': 3}]}] \n",
      "\n",
      "\n"
     ]
    }
   ],
   "source": [
    "import math\n",
    "usuarios = [\n",
    "    {\n",
    "        \"id\":\"13\", \n",
    "        \"media\":3.5,\n",
    "        \"user_similarity\": [],\n",
    "        \"filmes\":[\n",
    "                {\"id\":20, \"avaliacao\":4, \"ano\":2012, \"mes\": 12, \"dia\": 3}]\n",
    "     },\n",
    "    {\n",
    "        \"id\":\"14\", \n",
    "        \"media\":3.5,\n",
    "        \"user_similarity\": [],\n",
    "        \"filmes\":[\n",
    "                {\"id\":20, \"avaliacao\":4, \"ano\":2012, \"mes\": 12, \"dia\": 3}]\n",
    "     },\n",
    "    {\n",
    "        \"id\":\"16\", \n",
    "        \"media\":3.5,\n",
    "        \"user_similarity\": [],\n",
    "        \"filmes\":[\n",
    "                {\"id\":20, \"avaliacao\":4, \"ano\":2012, \"mes\": 12, \"dia\": 3}]\n",
    "     },\n",
    "    {\n",
    "        \"id\":\"17\", \n",
    "        \"media\":1.5,\n",
    "        \"user_similarity\": [],\n",
    "        \"filmes\":[\n",
    "                {\"id\":40, \"avaliacao\":1, \"ano\":2012, \"mes\": 12, \"dia\": 3}]\n",
    "     }\n",
    "    \n",
    "    \n",
    "]\n",
    "\n",
    "print(usuarios, \"\\n\\n\")\n"
   ]
  },
  {
   "cell_type": "markdown",
   "metadata": {},
   "source": [
    "Calculo da similadiridade"
   ]
  },
  {
   "cell_type": "code",
   "execution_count": 72,
   "metadata": {},
   "outputs": [
    {
     "name": "stdout",
     "output_type": "stream",
     "text": [
      "[('14', 0.02040816326530612), ('16', 0.02040816326530612), ('14', 0.02040816326530612), ('16', 0.02040816326530612)]\n"
     ]
    }
   ],
   "source": [
    "for i in range(len(usuarios)):\n",
    "    for j in range(i + 1,len(usuarios)):\n",
    "        filmes_i = usuarios[i][\"filmes\"]\n",
    "        filmes_j = usuarios[j][\"filmes\"]\n",
    "        somatorio_1 = 0\n",
    "        somatorio_2 = 0\n",
    "        somatorio_3 = 0\n",
    "        m = 0\n",
    "        for f1 in filmes_i:\n",
    "            f2 = list(filter(lambda y: y[\"id\"] == f1[\"id\"],filmes_j))\n",
    "            if f2:\n",
    "                f2 = f2[0]\n",
    "                s1 = (f1[\"avaliacao\"] - usuarios[i][\"media\"])\n",
    "                s2 = (f2[\"avaliacao\"] - usuarios[j][\"media\"])\n",
    "                somatorio_1 += s1*s2\n",
    "                somatorio_2 += math.pow(s1, 2)\n",
    "                somatorio_3 += math.pow(s2, 2)\n",
    "                m = m + 1\n",
    "        raiz = math.sqrt( somatorio_2 * somatorio_3)\n",
    "        if (raiz): #verifica divizao por zero\n",
    "            similaridade = somatorio_1 / raiz\n",
    "        else:\n",
    "            similaridade = 0\n",
    "        if(m < 50):\n",
    "            similaridade = similaridade / (50-m)        \n",
    "        if(similaridade > 0):\n",
    "            usuarios[i][\"user_similarity\"].append((usuarios[j][\"id\"], similaridade))\n",
    "            usuarios[j][\"user_similarity\"].append((usuarios[i][\"id\"], similaridade))           \n",
    "print(usuarios[0][\"user_similarity\"])\n",
    "            \n",
    "        "
   ]
  },
  {
   "cell_type": "code",
   "execution_count": null,
   "metadata": {},
   "outputs": [],
   "source": []
  },
  {
   "cell_type": "code",
   "execution_count": null,
   "metadata": {},
   "outputs": [],
   "source": []
  },
  {
   "cell_type": "code",
   "execution_count": null,
   "metadata": {},
   "outputs": [],
   "source": []
  }
 ],
 "metadata": {
  "kernelspec": {
   "display_name": "Python 3",
   "language": "python",
   "name": "python3"
  },
  "language_info": {
   "codemirror_mode": {
    "name": "ipython",
    "version": 3
   },
   "file_extension": ".py",
   "mimetype": "text/x-python",
   "name": "python",
   "nbconvert_exporter": "python",
   "pygments_lexer": "ipython3",
   "version": "3.6.4"
  }
 },
 "nbformat": 4,
 "nbformat_minor": 2
}
