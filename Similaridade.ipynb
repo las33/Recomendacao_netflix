{
 "cells": [
  {
   "cell_type": "code",
   "execution_count": 5,
   "metadata": {
    "scrolled": true
   },
   "outputs": [
    {
     "name": "stdout",
     "output_type": "stream",
     "text": [
      "treinamento\n"
     ]
    }
   ],
   "source": [
    "import math\n",
    "import json\n",
    "\n",
    "with open('train.json') as f:\n",
    "    usuarios = json.load(f)\n",
    "\n",
    "print(\"treinamento\")\n"
   ]
  },
  {
   "cell_type": "markdown",
   "metadata": {},
   "source": [
    "Calculo da similadiridade"
   ]
  },
  {
   "cell_type": "code",
   "execution_count": 4,
   "metadata": {},
   "outputs": [
    {
     "name": "stdout",
     "output_type": "stream",
     "text": [
      "start\n"
     ]
    },
    {
     "ename": "KeyError",
     "evalue": "'user_similarity'",
     "output_type": "error",
     "traceback": [
      "\u001b[1;31m---------------------------------------------------------------------------\u001b[0m",
      "\u001b[1;31mKeyError\u001b[0m                                  Traceback (most recent call last)",
      "\u001b[1;32m<ipython-input-4-3ce14a134f49>\u001b[0m in \u001b[0;36m<module>\u001b[1;34m()\u001b[0m\n\u001b[0;32m     34\u001b[0m         \u001b[0msimilaridade\u001b[0m \u001b[1;33m=\u001b[0m \u001b[0msimilaridade\u001b[0m \u001b[1;33m*\u001b[0m  \u001b[0mmath\u001b[0m\u001b[1;33m.\u001b[0m\u001b[0mpow\u001b[0m\u001b[1;33m(\u001b[0m\u001b[0mlambda_differ\u001b[0m\u001b[1;33m,\u001b[0m \u001b[0msumdiffer\u001b[0m\u001b[1;33m)\u001b[0m\u001b[1;33m\u001b[0m\u001b[0m\n\u001b[0;32m     35\u001b[0m         \u001b[1;32mif\u001b[0m\u001b[1;33m(\u001b[0m\u001b[0msimilaridade\u001b[0m \u001b[1;33m>\u001b[0m \u001b[1;36m0\u001b[0m\u001b[1;33m)\u001b[0m\u001b[1;33m:\u001b[0m\u001b[1;33m\u001b[0m\u001b[0m\n\u001b[1;32m---> 36\u001b[1;33m             \u001b[0musuarios\u001b[0m\u001b[1;33m[\u001b[0m\u001b[0mi\u001b[0m\u001b[1;33m]\u001b[0m\u001b[1;33m[\u001b[0m\u001b[1;34m\"user_similarity\"\u001b[0m\u001b[1;33m]\u001b[0m\u001b[1;33m.\u001b[0m\u001b[0mappend\u001b[0m\u001b[1;33m(\u001b[0m\u001b[1;33m(\u001b[0m\u001b[0musuarios\u001b[0m\u001b[1;33m[\u001b[0m\u001b[0mj\u001b[0m\u001b[1;33m]\u001b[0m\u001b[1;33m[\u001b[0m\u001b[1;34m\"id\"\u001b[0m\u001b[1;33m]\u001b[0m\u001b[1;33m,\u001b[0m \u001b[0msimilaridade\u001b[0m\u001b[1;33m)\u001b[0m\u001b[1;33m)\u001b[0m\u001b[1;33m\u001b[0m\u001b[0m\n\u001b[0m\u001b[0;32m     37\u001b[0m             \u001b[0musuarios\u001b[0m\u001b[1;33m[\u001b[0m\u001b[0mj\u001b[0m\u001b[1;33m]\u001b[0m\u001b[1;33m[\u001b[0m\u001b[1;34m\"user_similarity\"\u001b[0m\u001b[1;33m]\u001b[0m\u001b[1;33m.\u001b[0m\u001b[0mappend\u001b[0m\u001b[1;33m(\u001b[0m\u001b[1;33m(\u001b[0m\u001b[0musuarios\u001b[0m\u001b[1;33m[\u001b[0m\u001b[0mi\u001b[0m\u001b[1;33m]\u001b[0m\u001b[1;33m[\u001b[0m\u001b[1;34m\"id\"\u001b[0m\u001b[1;33m]\u001b[0m\u001b[1;33m,\u001b[0m \u001b[0msimilaridade\u001b[0m\u001b[1;33m)\u001b[0m\u001b[1;33m)\u001b[0m\u001b[1;33m\u001b[0m\u001b[0m\n\u001b[0;32m     38\u001b[0m \u001b[1;33m\u001b[0m\u001b[0m\n",
      "\u001b[1;31mKeyError\u001b[0m: 'user_similarity'"
     ]
    }
   ],
   "source": [
    "print(\"start\")\n",
    "lambda_differ = 0.7\n",
    "for i in range(len(usuarios)):\n",
    "    for j in range(i + 1,len(usuarios)):\n",
    "        filmes_i = usuarios[i][\"filmes\"]\n",
    "        filmes_j = usuarios[j][\"filmes\"]\n",
    "        somatorio_1 = 0\n",
    "        somatorio_2 = 0\n",
    "        somatorio_3 = 0\n",
    "        sumdiffer = 0\n",
    "        m = 0\n",
    "        for f1 in filmes_i:\n",
    "            f2 = list(filter(lambda y: y[\"id\"] == f1[\"id\"],filmes_j))\n",
    "            if f2:\n",
    "                f2 = f2[0]\n",
    "                s1 = (f1[\"avaliacao\"] - usuarios[i][\"media\"])\n",
    "                s2 = (f2[\"avaliacao\"] - usuarios[j][\"media\"])\n",
    "                somatorio_1 += s1*s2\n",
    "                somatorio_2 += math.pow(s1, 2)\n",
    "                somatorio_3 += math.pow(s2, 2)\n",
    "                m = m + 1\n",
    "                sumdiffer += math.pow(f1[\"avaliacao\"] - f2[\"avaliacao\"], 2)\n",
    "        raiz = math.sqrt( somatorio_2 * somatorio_3)\n",
    "        if (m):\n",
    "            sumdiffer = math.sqrt( sumdiffer/m)\n",
    "        else:\n",
    "            sumdiffer = 0\n",
    "        if (raiz): #verifica divizao por zero\n",
    "            similaridade = somatorio_1 / raiz\n",
    "        else:\n",
    "            similaridade = 0\n",
    "        if(m < 50):\n",
    "            similaridade = similaridade / (50-m)\n",
    "        similaridade = similaridade *  math.pow(lambda_differ, sumdiffer)\n",
    "        if(similaridade > 0):\n",
    "            usuarios[i][\"user_similarity\"].append((usuarios[j][\"id\"], similaridade))\n",
    "            usuarios[j][\"user_similarity\"].append((usuarios[i][\"id\"], similaridade))\n",
    "            \n",
    "print(usuarios[0][\"user_similarity\"])\n",
    "with open('usuarios.json', 'w') as outfile:\n",
    "    json.dump(usuarios, outfile)\n",
    "    \n",
    "    \n",
    "\n",
    "            \n",
    "        "
   ]
  },
  {
   "cell_type": "code",
   "execution_count": null,
   "metadata": {
    "collapsed": true
   },
   "outputs": [],
   "source": []
  },
  {
   "cell_type": "code",
   "execution_count": null,
   "metadata": {
    "collapsed": true
   },
   "outputs": [],
   "source": []
  },
  {
   "cell_type": "code",
   "execution_count": null,
   "metadata": {
    "collapsed": true
   },
   "outputs": [],
   "source": []
  }
 ],
 "metadata": {
  "kernelspec": {
   "display_name": "Python 3",
   "language": "python",
   "name": "python3"
  },
  "language_info": {
   "codemirror_mode": {
    "name": "ipython",
    "version": 3
   },
   "file_extension": ".py",
   "mimetype": "text/x-python",
   "name": "python",
   "nbconvert_exporter": "python",
   "pygments_lexer": "ipython3",
   "version": "3.6.2"
  }
 },
 "nbformat": 4,
 "nbformat_minor": 2
}
