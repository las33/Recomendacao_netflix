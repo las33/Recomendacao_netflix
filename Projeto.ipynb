{
 "cells": [
  {
   "cell_type": "code",
   "execution_count": 1,
   "metadata": {},
   "outputs": [
    {
     "name": "stdout",
     "output_type": "stream",
     "text": [
      "Requirement already satisfied: numpy in e:\\arquivos_de_programas\\lib\\site-packages (1.14.3)\n",
      "Requirement already satisfied: pandas in e:\\arquivos_de_programas\\lib\\site-packages (0.23.0)\n",
      "Requirement already satisfied: python-dateutil>=2.5.0 in e:\\arquivos_de_programas\\lib\\site-packages (from pandas) (2.7.3)\n",
      "Requirement already satisfied: pytz>=2011k in e:\\arquivos_de_programas\\lib\\site-packages (from pandas) (2018.4)\n",
      "Requirement already satisfied: six>=1.5 in e:\\arquivos_de_programas\\lib\\site-packages (from python-dateutil>=2.5.0->pandas) (1.11.0)\n"
     ]
    }
   ],
   "source": [
    "!pip install numpy pandas"
   ]
  },
  {
   "cell_type": "code",
   "execution_count": 1,
   "metadata": {},
   "outputs": [],
   "source": [
    "import pandas as pd\n",
    "import numpy as np\n",
    "# from pygdf.dataframe import DataFrame\n",
    "# from pygdf.index import GenericIndex, Index\n",
    "# from numba import cuda, vectorize, jit\n",
    "import json\n",
    "import time\n",
    "# import _thread as thread"
   ]
  },
  {
   "cell_type": "code",
   "execution_count": 2,
   "metadata": {
    "scrolled": true
   },
   "outputs": [
    {
     "data": {
      "text/html": [
       "<div>\n",
       "<style scoped>\n",
       "    .dataframe tbody tr th:only-of-type {\n",
       "        vertical-align: middle;\n",
       "    }\n",
       "\n",
       "    .dataframe tbody tr th {\n",
       "        vertical-align: top;\n",
       "    }\n",
       "\n",
       "    .dataframe thead th {\n",
       "        text-align: right;\n",
       "    }\n",
       "</style>\n",
       "<table border=\"1\" class=\"dataframe\">\n",
       "  <thead>\n",
       "    <tr style=\"text-align: right;\">\n",
       "      <th></th>\n",
       "      <th>cust_id</th>\n",
       "      <th>rating</th>\n",
       "      <th>date</th>\n",
       "    </tr>\n",
       "  </thead>\n",
       "  <tbody>\n",
       "    <tr>\n",
       "      <th>0</th>\n",
       "      <td>1:</td>\n",
       "      <td>NaN</td>\n",
       "      <td>NaN</td>\n",
       "    </tr>\n",
       "    <tr>\n",
       "      <th>1</th>\n",
       "      <td>1488844</td>\n",
       "      <td>3.0</td>\n",
       "      <td>2005-09-06</td>\n",
       "    </tr>\n",
       "    <tr>\n",
       "      <th>2</th>\n",
       "      <td>822109</td>\n",
       "      <td>5.0</td>\n",
       "      <td>2005-05-13</td>\n",
       "    </tr>\n",
       "    <tr>\n",
       "      <th>3</th>\n",
       "      <td>885013</td>\n",
       "      <td>4.0</td>\n",
       "      <td>2005-10-19</td>\n",
       "    </tr>\n",
       "    <tr>\n",
       "      <th>4</th>\n",
       "      <td>30878</td>\n",
       "      <td>4.0</td>\n",
       "      <td>2005-12-26</td>\n",
       "    </tr>\n",
       "  </tbody>\n",
       "</table>\n",
       "</div>"
      ],
      "text/plain": [
       "   cust_id  rating        date\n",
       "0       1:     NaN         NaN\n",
       "1  1488844     3.0  2005-09-06\n",
       "2   822109     5.0  2005-05-13\n",
       "3   885013     4.0  2005-10-19\n",
       "4    30878     4.0  2005-12-26"
      ]
     },
     "execution_count": 2,
     "metadata": {},
     "output_type": "execute_result"
    }
   ],
   "source": [
    "data_set = pd.read_csv('./netflix-prize-data/combined_data_1.txt', header = None, \n",
    "                       names = ['cust_id', 'rating', 'date'])\n",
    "data_set.head(5)"
   ]
  },
  {
   "cell_type": "code",
   "execution_count": 3,
   "metadata": {},
   "outputs": [
    {
     "name": "stdout",
     "output_type": "stream",
     "text": [
      "comecouu\n",
      "terminou extract\n",
      "terminou drop date\n",
      "modelo final\n",
      "Filmes 4499\n",
      "Pegou os ids dos filmes\n",
      "salvando o arquivo\n"
     ]
    }
   ],
   "source": [
    "print (\"comecouu\")\n",
    "date_df = data_set.date.str.extract('(?P<year>\\d{4})-(?P<month>\\d{2})-(?P<day>\\d{2}$)')\n",
    "print (\"terminou extract\")\n",
    "data_set.drop('date', axis=1, inplace=True)\n",
    "print (\"terminou drop date\")\n",
    "data_set = data_set.join(date_df)\n",
    "print (\"modelo final\")\n",
    "index = list(data_set.query(\"rating != rating\").index)\n",
    "print (\"Filmes\" , len(index))\n",
    "filmes = list(map(lambda x: x[0], data_set.loc[index, \"cust_id\"].str.split(\":\")))\n",
    "print (\"Pegou os ids dos filmes\")\n",
    "data_set.loc[index, \"cust_id\"] = filmes\n",
    "print (\"salvando o arquivo\")\n",
    "data_set.to_csv(\"./combined_data_1.csv\", index=False)\n",
    "        "
   ]
  },
  {
   "cell_type": "code",
   "execution_count": 14,
   "metadata": {},
   "outputs": [
    {
     "data": {
      "text/html": [
       "<div>\n",
       "<style scoped>\n",
       "    .dataframe tbody tr th:only-of-type {\n",
       "        vertical-align: middle;\n",
       "    }\n",
       "\n",
       "    .dataframe tbody tr th {\n",
       "        vertical-align: top;\n",
       "    }\n",
       "\n",
       "    .dataframe thead th {\n",
       "        text-align: right;\n",
       "    }\n",
       "</style>\n",
       "<table border=\"1\" class=\"dataframe\">\n",
       "  <thead>\n",
       "    <tr style=\"text-align: right;\">\n",
       "      <th></th>\n",
       "      <th>cust_id</th>\n",
       "      <th>rating</th>\n",
       "      <th>year</th>\n",
       "      <th>month</th>\n",
       "      <th>day</th>\n",
       "    </tr>\n",
       "  </thead>\n",
       "  <tbody>\n",
       "    <tr>\n",
       "      <th>0</th>\n",
       "      <td>1</td>\n",
       "      <td>NaN</td>\n",
       "      <td>NaN</td>\n",
       "      <td>NaN</td>\n",
       "      <td>NaN</td>\n",
       "    </tr>\n",
       "    <tr>\n",
       "      <th>1</th>\n",
       "      <td>1488844</td>\n",
       "      <td>3.0</td>\n",
       "      <td>2005.0</td>\n",
       "      <td>9.0</td>\n",
       "      <td>6.0</td>\n",
       "    </tr>\n",
       "    <tr>\n",
       "      <th>2</th>\n",
       "      <td>822109</td>\n",
       "      <td>5.0</td>\n",
       "      <td>2005.0</td>\n",
       "      <td>5.0</td>\n",
       "      <td>13.0</td>\n",
       "    </tr>\n",
       "    <tr>\n",
       "      <th>3</th>\n",
       "      <td>885013</td>\n",
       "      <td>4.0</td>\n",
       "      <td>2005.0</td>\n",
       "      <td>10.0</td>\n",
       "      <td>19.0</td>\n",
       "    </tr>\n",
       "    <tr>\n",
       "      <th>4</th>\n",
       "      <td>30878</td>\n",
       "      <td>4.0</td>\n",
       "      <td>2005.0</td>\n",
       "      <td>12.0</td>\n",
       "      <td>26.0</td>\n",
       "    </tr>\n",
       "  </tbody>\n",
       "</table>\n",
       "</div>"
      ],
      "text/plain": [
       "   cust_id  rating    year  month   day\n",
       "0        1     NaN     NaN    NaN   NaN\n",
       "1  1488844     3.0  2005.0    9.0   6.0\n",
       "2   822109     5.0  2005.0    5.0  13.0\n",
       "3   885013     4.0  2005.0   10.0  19.0\n",
       "4    30878     4.0  2005.0   12.0  26.0"
      ]
     },
     "execution_count": 14,
     "metadata": {},
     "output_type": "execute_result"
    }
   ],
   "source": [
    "data_set = pd.read_csv('./combined_data_1.csv')\n",
    "data_set.head(5)"
   ]
  },
  {
   "cell_type": "code",
   "execution_count": 15,
   "metadata": {
    "scrolled": true
   },
   "outputs": [
    {
     "name": "stdout",
     "output_type": "stream",
     "text": [
      "4499\n",
      "Associando os filmes aos usuários que assistiram esse filme\n",
      "[####################################################################################################] 100%   \n",
      "salvando o arquivo\n"
     ]
    }
   ],
   "source": [
    "index = list(data_set.query(\"rating != rating\").index)\n",
    "print (len(index))\n",
    "\n",
    "print (\"Associando os filmes aos usuários que assistiram esse filme\")\n",
    "for i in range(0, len(index) - 1):\n",
    "    data_set.loc[index[i]:index[i + 1], \"filme\"] = data_set.cust_id[index[i]]\n",
    "    if (i % 5 == 0):\n",
    "        progress = 100*(i/len(index))\n",
    "        print (\"[%s%s] %2.1f%%\" % ('#'*int(progress), '_'*(100-int(progress)), progress), end=\"\\r\")\n",
    "        \n",
    "data_set.loc[index[-1]: len(data_set), \"filme\"] = data_set.cust_id[index[-1]]\n",
    "data_set.drop(index, inplace=True)\n",
    "print (\"[%s] 100%%   \" % ('#'*100))\n",
    "\n",
    "print (\"salvando o arquivo\")\n",
    "data_set.to_csv(\"./combined_data_1_filmes.csv\", index=False)"
   ]
  },
  {
   "cell_type": "code",
   "execution_count": 13,
   "metadata": {},
   "outputs": [
    {
     "data": {
      "text/html": [
       "<div>\n",
       "<style scoped>\n",
       "    .dataframe tbody tr th:only-of-type {\n",
       "        vertical-align: middle;\n",
       "    }\n",
       "\n",
       "    .dataframe tbody tr th {\n",
       "        vertical-align: top;\n",
       "    }\n",
       "\n",
       "    .dataframe thead th {\n",
       "        text-align: right;\n",
       "    }\n",
       "</style>\n",
       "<table border=\"1\" class=\"dataframe\">\n",
       "  <thead>\n",
       "    <tr style=\"text-align: right;\">\n",
       "      <th></th>\n",
       "      <th>cust_id</th>\n",
       "      <th>rating</th>\n",
       "      <th>year</th>\n",
       "      <th>month</th>\n",
       "      <th>day</th>\n",
       "      <th>filme</th>\n",
       "    </tr>\n",
       "  </thead>\n",
       "  <tbody>\n",
       "    <tr>\n",
       "      <th>0</th>\n",
       "      <td>1488844</td>\n",
       "      <td>3.0</td>\n",
       "      <td>2005.0</td>\n",
       "      <td>9.0</td>\n",
       "      <td>6.0</td>\n",
       "      <td>1.0</td>\n",
       "    </tr>\n",
       "    <tr>\n",
       "      <th>1</th>\n",
       "      <td>822109</td>\n",
       "      <td>5.0</td>\n",
       "      <td>2005.0</td>\n",
       "      <td>5.0</td>\n",
       "      <td>13.0</td>\n",
       "      <td>1.0</td>\n",
       "    </tr>\n",
       "    <tr>\n",
       "      <th>2</th>\n",
       "      <td>885013</td>\n",
       "      <td>4.0</td>\n",
       "      <td>2005.0</td>\n",
       "      <td>10.0</td>\n",
       "      <td>19.0</td>\n",
       "      <td>1.0</td>\n",
       "    </tr>\n",
       "    <tr>\n",
       "      <th>3</th>\n",
       "      <td>30878</td>\n",
       "      <td>4.0</td>\n",
       "      <td>2005.0</td>\n",
       "      <td>12.0</td>\n",
       "      <td>26.0</td>\n",
       "      <td>1.0</td>\n",
       "    </tr>\n",
       "    <tr>\n",
       "      <th>4</th>\n",
       "      <td>823519</td>\n",
       "      <td>3.0</td>\n",
       "      <td>2004.0</td>\n",
       "      <td>5.0</td>\n",
       "      <td>3.0</td>\n",
       "      <td>1.0</td>\n",
       "    </tr>\n",
       "  </tbody>\n",
       "</table>\n",
       "</div>"
      ],
      "text/plain": [
       "   cust_id  rating    year  month   day  filme\n",
       "0  1488844     3.0  2005.0    9.0   6.0    1.0\n",
       "1   822109     5.0  2005.0    5.0  13.0    1.0\n",
       "2   885013     4.0  2005.0   10.0  19.0    1.0\n",
       "3    30878     4.0  2005.0   12.0  26.0    1.0\n",
       "4   823519     3.0  2004.0    5.0   3.0    1.0"
      ]
     },
     "execution_count": 13,
     "metadata": {},
     "output_type": "execute_result"
    }
   ],
   "source": [
    "data_set = pd.read_csv('./combined_data_1_filmes.csv')\n",
    "data_set.head(5)"
   ]
  },
  {
   "cell_type": "code",
   "execution_count": 14,
   "metadata": {},
   "outputs": [
    {
     "name": "stdout",
     "output_type": "stream",
     "text": [
      "[####################################################################################################] 100%   \n",
      "Salvando no arquivo json\n",
      "[####################################################################################################] 100%   \n",
      "6924.083045959473\n"
     ]
    }
   ],
   "source": [
    "start = time.time()\n",
    "data_set_size = len(data_set)\n",
    "users = {}\n",
    "for i, avaliacao in data_set.iterrows():\n",
    "    if (i % 100 == 0):\n",
    "        progress = 100*(i/data_set_size)\n",
    "        print (\"[%s%s] %2.1f%%\" % ('#'*int(progress), '_'*(100-int(progress)), progress), end=\"\\r\")\n",
    "        \n",
    "    filme = {\n",
    "            \"id\": avaliacao[\"filme\"],\n",
    "            \"avaliacao\": avaliacao[\"rating\"],\n",
    "            \"year\": avaliacao[\"year\"],\n",
    "            \"month\": avaliacao[\"month\"],\n",
    "            \"day\": avaliacao[\"day\"]\n",
    "        }\n",
    "    if avaliacao[\"cust_id\"] in users:\n",
    "        users[avaliacao[\"cust_id\"]][\"filmes\"].append(filme)\n",
    "    else:\n",
    "        users[avaliacao[\"cust_id\"]] = {\n",
    "            \"id\": avaliacao[\"cust_id\"],\n",
    "            \"filmes\": []\n",
    "        }\n",
    "        users[avaliacao[\"cust_id\"]][\"filmes\"].append(filme)\n",
    "        \n",
    "print (\"[%s] 100%%   \" % ('#'*100))\n",
    "\n",
    "print (\"Salvando no arquivo json\")\n",
    "with open('combined_data_1.json', 'w', encoding='utf8') as outfile:\n",
    "    first = True\n",
    "    users_size = len(users)\n",
    "    i = 0\n",
    "    for key, value in users.items():\n",
    "        i += 1\n",
    "        if (i % 10 == 0):\n",
    "            progress = 100*(i/users_size)\n",
    "            print (\"[%s%s] %2.1f%%\" % ('#'*int(progress), '_'*(100-int(progress)), progress), end=\"\\r\")\n",
    "        \n",
    "        avaliacoes = list(map(lambda x: x[\"avaliacao\"], value[\"filmes\"]))\n",
    "        media = sum(avaliacoes)/len(avaliacoes)\n",
    "        value[\"media\"] = media\n",
    "        value[\"user_similarity\"] = []\n",
    "        \n",
    "        if (first):\n",
    "            outfile.write(\"[\\n\" + json.dumps(value,\n",
    "                                indent=4,\n",
    "                                separators=(',', ': ')))\n",
    "            first = False\n",
    "        else:\n",
    "            outfile.write(\",\\n\" + json.dumps(value,\n",
    "                                indent=4,\n",
    "                                separators=(',', ': ')))\n",
    "    outfile.write(\"\\n]\")\n",
    "\n",
    "print (\"[%s] 100%%   \" % ('#'*100))\n",
    "    \n",
    "print (time.time() - start)"
   ]
  },
  {
   "cell_type": "code",
   "execution_count": null,
   "metadata": {},
   "outputs": [],
   "source": [
    "print (\"Pegando os ids dos usuários\")\n",
    "# unique_users = df.cust_id.unique()\n",
    "# len_unique_user = len(unique_users)\n",
    "\n",
    "print (\"Associando os usuários com os filmes que eles assistiram\")\n",
    "usuarios = []\n",
    "for index, cust_id in enumerate(unique_users):\n",
    "    if (index % 5 == 0):\n",
    "        progress = 100*(index/len_unique_user)\n",
    "        print (\"[%s%s] %2.1f%%\" % ('#'*int(progress), '_'*(100-int(progress)), progress), end=\"\\r\")\n",
    "    lista_assistiu = df[df.cust_id == cust_id]\n",
    "    filmes = []\n",
    "    for _, assistiu in lista_assistiu.iterrows():\n",
    "        filmes.append({\n",
    "            \"id\": assistiu[\"filme\"],\n",
    "            \"avaliacao\": assistiu[\"rating\"],\n",
    "            \"data\": assistiu[\"data\"]\n",
    "        })\n",
    "    usuarios.append({\n",
    "        \"media\": float(lista_assistiu[\"rating\"].mean()),\n",
    "        \"user_similarity\": [],\n",
    "        \"id\": int(cust_id),\n",
    "        \"filmes\": filmes\n",
    "    })\n",
    "\n",
    "print (\"[%s] 100%%   \" % ('#'*100))\n",
    "print (\"Salvando no arquivo json\")\n",
    "with open('data.json', 'w', encoding='utf8') as outfile:\n",
    "    outfile.write(json.dumps(usuarios,\n",
    "                                indent=4,\n",
    "                                separators=(',', ': ')))"
   ]
  },
  {
   "cell_type": "code",
   "execution_count": 143,
   "metadata": {
    "scrolled": true
   },
   "outputs": [
    {
     "name": "stdout",
     "output_type": "stream",
     "text": [
      "499852\n",
      "CPU times: user 2.06 s, sys: 6.61 ms, total: 2.06 s\n",
      "Wall time: 2.08 s\n"
     ]
    }
   ],
   "source": [
    "# def teste_v():\n",
    "#     index = list(data_set[data_set.rating.isna()].index)\n",
    "# #     print (index)\n",
    "#     df = data_set\n",
    "#     df[\"filme\"] = '-1'\n",
    "\n",
    "#     for i in range(0, len(index) - 1):\n",
    "#         df.iloc[index[i] + 1:index[i + 1], 3] = df.cust_id[index[i]].split(\":\")[0]\n",
    "\n",
    "#     df.iloc[index[-1] + 1:len(df), 3] = df.cust_id[index[-1]].split(\":\")[0]\n",
    "#     # # df = data_set\n",
    "#     # # df[\"filme\"] = 2\n",
    "#     # # df\n",
    "#     # df.iloc[index[0] + 1:index[1], 2] = 12\n",
    "#     # df.iloc[first + 1:index[i], 2] = df.Cust_Id[first].split(\":\")[0]\n",
    "#     df = df[~df.rating.isna()]\n",
    "#     print (len(df))\n",
    "    \n",
    "# %time teste_v()\n",
    "# df\n",
    "# df.Cust_Id[0].split(\":\")[0]\n",
    "\n",
    "index = list(data_set.query(\"rating != rating\").index)\n",
    "print (\"Filmes\" , len(index))\n",
    "print (\"Pegou os ids dos filmes\")\n",
    "data_set.loc[index, \"cust_id\"] = filmes"
   ]
  },
  {
   "cell_type": "code",
   "execution_count": 6,
   "metadata": {},
   "outputs": [],
   "source": [
    "usuarios = []\n",
    "users = df.cust_id.unique()\n",
    "print (len(users))\n",
    "for cust_id in users:\n",
    "#     print (cust_id)\n",
    "    lista_assistiu = df.query('cust_id == @cust_id')\n",
    "#     print (lista_assistiu)\n",
    "    filmes = []\n",
    "#     print(cust_id, \"-->\", lista_assistiu.rating.mean())\n",
    "    for _, assistiu in lista_assistiu.iterrows():\n",
    "#         print (assistiu)\n",
    "        filmes.append({\n",
    "            \"id\": assistiu[\"filme\"],\n",
    "            \"avaliacao\": assistiu[\"rating\"],\n",
    "            \"data\": assistiu[\"data\"]\n",
    "        })\n",
    "    usuarios.append({\n",
    "        \"media\": float(lista_assistiu[\"rating\"].mean()),\n",
    "        \"user_similarity\": [],\n",
    "        \"id\": int(cust_id),\n",
    "        \"filmes\": filmes\n",
    "    })\n",
    "    \n",
    "with open('data.json', 'w', encoding='utf8') as outfile:\n",
    "    outfile.write(json.dumps(usuarios,\n",
    "                                      indent=4,\n",
    "                                      separators=(',', ': ')))\n",
    "# print (usuarios)\n",
    "# df[df.cust_id == '2442']\n",
    "# for i in df.cust_id[:20]:\n",
    "#     print (i)"
   ]
  },
  {
   "cell_type": "code",
   "execution_count": 78,
   "metadata": {},
   "outputs": [
    {
     "name": "stdout",
     "output_type": "stream",
     "text": [
      "141045 --> 3.0\n",
      "[{'id': '1', 'avaliacao': 3.0, 'data': '2004-04-14'}]\n"
     ]
    }
   ],
   "source": [
    "lista_assistiu = df[df.cust_id == '2442']\n",
    "#     print (lista_assistiu)\n",
    "filmes = []\n",
    "print(cust_id, \"-->\", lista_assistiu.rating.mean())\n",
    "for _, assistiu in lista_assistiu.iterrows():\n",
    "#         print (assistiu)\n",
    "    filmes.append({\n",
    "        \"id\": assistiu.filme,\n",
    "        \"avaliacao\": assistiu.rating,\n",
    "        \"data\": assistiu[\"data\"]\n",
    "    })\n",
    "    print (filmes)"
   ]
  },
  {
   "cell_type": "code",
   "execution_count": 12,
   "metadata": {},
   "outputs": [],
   "source": [
    "with open('data.json', 'w', encoding='utf8') as outfile:\n",
    "    outfile.write(json.dumps([{\"teste\": \"123\", \"ert\": [\"tresd\"]}],\n",
    "                                          indent=4,\n",
    "                                          separators=(',', ': ')))"
   ]
  },
  {
   "cell_type": "code",
   "execution_count": 4,
   "metadata": {},
   "outputs": [
    {
     "data": {
      "text/html": [
       "<div>\n",
       "<style scoped>\n",
       "    .dataframe tbody tr th:only-of-type {\n",
       "        vertical-align: middle;\n",
       "    }\n",
       "\n",
       "    .dataframe tbody tr th {\n",
       "        vertical-align: top;\n",
       "    }\n",
       "\n",
       "    .dataframe thead th {\n",
       "        text-align: right;\n",
       "    }\n",
       "</style>\n",
       "<table border=\"1\" class=\"dataframe\">\n",
       "  <thead>\n",
       "    <tr style=\"text-align: right;\">\n",
       "      <th></th>\n",
       "      <th>cust_id</th>\n",
       "      <th>rating</th>\n",
       "      <th>year</th>\n",
       "      <th>month</th>\n",
       "      <th>day</th>\n",
       "    </tr>\n",
       "  </thead>\n",
       "  <tbody>\n",
       "    <tr>\n",
       "      <th>0</th>\n",
       "      <td>1</td>\n",
       "      <td>NaN</td>\n",
       "      <td>NaN</td>\n",
       "      <td>NaN</td>\n",
       "      <td>NaN</td>\n",
       "    </tr>\n",
       "    <tr>\n",
       "      <th>1</th>\n",
       "      <td>1488844</td>\n",
       "      <td>3.0</td>\n",
       "      <td>2005.0</td>\n",
       "      <td>9.0</td>\n",
       "      <td>6.0</td>\n",
       "    </tr>\n",
       "    <tr>\n",
       "      <th>2</th>\n",
       "      <td>822109</td>\n",
       "      <td>5.0</td>\n",
       "      <td>2005.0</td>\n",
       "      <td>5.0</td>\n",
       "      <td>13.0</td>\n",
       "    </tr>\n",
       "    <tr>\n",
       "      <th>3</th>\n",
       "      <td>885013</td>\n",
       "      <td>4.0</td>\n",
       "      <td>2005.0</td>\n",
       "      <td>10.0</td>\n",
       "      <td>19.0</td>\n",
       "    </tr>\n",
       "    <tr>\n",
       "      <th>4</th>\n",
       "      <td>30878</td>\n",
       "      <td>4.0</td>\n",
       "      <td>2005.0</td>\n",
       "      <td>12.0</td>\n",
       "      <td>26.0</td>\n",
       "    </tr>\n",
       "  </tbody>\n",
       "</table>\n",
       "</div>"
      ],
      "text/plain": [
       "   cust_id  rating    year  month   day\n",
       "0        1     NaN     NaN    NaN   NaN\n",
       "1  1488844     3.0  2005.0    9.0   6.0\n",
       "2   822109     5.0  2005.0    5.0  13.0\n",
       "3   885013     4.0  2005.0   10.0  19.0\n",
       "4    30878     4.0  2005.0   12.0  26.0"
      ]
     },
     "execution_count": 4,
     "metadata": {},
     "output_type": "execute_result"
    }
   ],
   "source": [
    "gdf = pd.read_csv('./combined_data_1.csv', nrows=5000)\n",
    "gdf.head(5)\n"
   ]
  },
  {
   "cell_type": "code",
   "execution_count": 41,
   "metadata": {
    "scrolled": true
   },
   "outputs": [
    {
     "ename": "CudaAPIError",
     "evalue": "[999] Call to cuMemAlloc results in CUDA_ERROR_UNKNOWN",
     "output_type": "error",
     "traceback": [
      "\u001b[0;31m---------------------------------------------------------------------------\u001b[0m",
      "\u001b[0;31mCudaAPIError\u001b[0m                              Traceback (most recent call last)",
      "\u001b[0;32m<timed eval>\u001b[0m in \u001b[0;36m<module>\u001b[0;34m()\u001b[0m\n",
      "\u001b[0;32m<ipython-input-41-872f3ec8909c>\u001b[0m in \u001b[0;36mdf\u001b[0;34m()\u001b[0m\n\u001b[1;32m     17\u001b[0m \u001b[0;31m#     print (len(df))\u001b[0m\u001b[0;34m\u001b[0m\u001b[0;34m\u001b[0m\u001b[0m\n\u001b[1;32m     18\u001b[0m \u001b[0;32mdef\u001b[0m \u001b[0mdf\u001b[0m\u001b[0;34m(\u001b[0m\u001b[0;34m)\u001b[0m\u001b[0;34m:\u001b[0m\u001b[0;34m\u001b[0m\u001b[0m\n\u001b[0;32m---> 19\u001b[0;31m     \u001b[0mindexes\u001b[0m \u001b[0;34m=\u001b[0m \u001b[0mlist\u001b[0m\u001b[0;34m(\u001b[0m\u001b[0mdf_gdf\u001b[0m\u001b[0;34m.\u001b[0m\u001b[0mquery\u001b[0m\u001b[0;34m(\u001b[0m\u001b[0;34m\"rating != rating\"\u001b[0m\u001b[0;34m)\u001b[0m\u001b[0;34m.\u001b[0m\u001b[0mindex\u001b[0m\u001b[0;34m)\u001b[0m\u001b[0;34m\u001b[0m\u001b[0m\n\u001b[0m\u001b[1;32m     20\u001b[0m     \u001b[0;32mdef\u001b[0m \u001b[0mapply_filme\u001b[0m\u001b[0;34m(\u001b[0m\u001b[0mcust_id\u001b[0m\u001b[0;34m,\u001b[0m \u001b[0mfilme\u001b[0m\u001b[0;34m)\u001b[0m\u001b[0;34m:\u001b[0m\u001b[0;34m\u001b[0m\u001b[0m\n\u001b[1;32m     21\u001b[0m         \u001b[0mtam\u001b[0m \u001b[0;34m=\u001b[0m \u001b[0mlen\u001b[0m\u001b[0;34m(\u001b[0m\u001b[0mcust_id\u001b[0m\u001b[0;34m)\u001b[0m\u001b[0;34m\u001b[0m\u001b[0m\n",
      "\u001b[0;32m~/anaconda3/envs/DataScience/lib/python3.6/site-packages/pygdf/dataframe.py\u001b[0m in \u001b[0;36mquery\u001b[0;34m(self, expr)\u001b[0m\n\u001b[1;32m    746\u001b[0m         }\n\u001b[1;32m    747\u001b[0m         \u001b[0;31m# Run query\u001b[0m\u001b[0;34m\u001b[0m\u001b[0;34m\u001b[0m\u001b[0m\n\u001b[0;32m--> 748\u001b[0;31m         \u001b[0mboolmask\u001b[0m \u001b[0;34m=\u001b[0m \u001b[0mqueryutils\u001b[0m\u001b[0;34m.\u001b[0m\u001b[0mquery_execute\u001b[0m\u001b[0;34m(\u001b[0m\u001b[0mself\u001b[0m\u001b[0;34m,\u001b[0m \u001b[0mexpr\u001b[0m\u001b[0;34m,\u001b[0m \u001b[0mcallenv\u001b[0m\u001b[0;34m)\u001b[0m\u001b[0;34m\u001b[0m\u001b[0m\n\u001b[0m\u001b[1;32m    749\u001b[0m \u001b[0;34m\u001b[0m\u001b[0m\n\u001b[1;32m    750\u001b[0m         \u001b[0mselected\u001b[0m \u001b[0;34m=\u001b[0m \u001b[0mSeries\u001b[0m\u001b[0;34m(\u001b[0m\u001b[0mboolmask\u001b[0m\u001b[0;34m)\u001b[0m\u001b[0;34m\u001b[0m\u001b[0m\n",
      "\u001b[0;32m~/anaconda3/envs/DataScience/lib/python3.6/site-packages/pygdf/queryutils.py\u001b[0m in \u001b[0;36mquery_execute\u001b[0;34m(df, expr, callenv)\u001b[0m\n\u001b[1;32m    210\u001b[0m     \u001b[0;31m# allocate output buffer\u001b[0m\u001b[0;34m\u001b[0m\u001b[0;34m\u001b[0m\u001b[0m\n\u001b[1;32m    211\u001b[0m     \u001b[0mnrows\u001b[0m \u001b[0;34m=\u001b[0m \u001b[0mlen\u001b[0m\u001b[0;34m(\u001b[0m\u001b[0mdf\u001b[0m\u001b[0;34m)\u001b[0m\u001b[0;34m\u001b[0m\u001b[0m\n\u001b[0;32m--> 212\u001b[0;31m     \u001b[0mout\u001b[0m \u001b[0;34m=\u001b[0m \u001b[0mcuda\u001b[0m\u001b[0;34m.\u001b[0m\u001b[0mdevice_array\u001b[0m\u001b[0;34m(\u001b[0m\u001b[0mnrows\u001b[0m\u001b[0;34m,\u001b[0m \u001b[0mdtype\u001b[0m\u001b[0;34m=\u001b[0m\u001b[0mnp\u001b[0m\u001b[0;34m.\u001b[0m\u001b[0mbool_\u001b[0m\u001b[0;34m)\u001b[0m\u001b[0;34m\u001b[0m\u001b[0m\n\u001b[0m\u001b[1;32m    213\u001b[0m     \u001b[0;31m# run kernel\u001b[0m\u001b[0;34m\u001b[0m\u001b[0;34m\u001b[0m\u001b[0m\n\u001b[1;32m    214\u001b[0m     \u001b[0margs\u001b[0m \u001b[0;34m=\u001b[0m \u001b[0;34m[\u001b[0m\u001b[0mout\u001b[0m\u001b[0;34m]\u001b[0m \u001b[0;34m+\u001b[0m \u001b[0mcolarrays\u001b[0m \u001b[0;34m+\u001b[0m \u001b[0menvargs\u001b[0m\u001b[0;34m\u001b[0m\u001b[0m\n",
      "\u001b[0;32m~/anaconda3/envs/DataScience/lib/python3.6/site-packages/numba/cuda/cudadrv/devices.py\u001b[0m in \u001b[0;36m_require_cuda_context\u001b[0;34m(*args, **kws)\u001b[0m\n\u001b[1;32m    210\u001b[0m     \u001b[0;32mdef\u001b[0m \u001b[0m_require_cuda_context\u001b[0m\u001b[0;34m(\u001b[0m\u001b[0;34m*\u001b[0m\u001b[0margs\u001b[0m\u001b[0;34m,\u001b[0m \u001b[0;34m**\u001b[0m\u001b[0mkws\u001b[0m\u001b[0;34m)\u001b[0m\u001b[0;34m:\u001b[0m\u001b[0;34m\u001b[0m\u001b[0m\n\u001b[1;32m    211\u001b[0m         \u001b[0mget_context\u001b[0m\u001b[0;34m(\u001b[0m\u001b[0;34m)\u001b[0m\u001b[0;34m\u001b[0m\u001b[0m\n\u001b[0;32m--> 212\u001b[0;31m         \u001b[0;32mreturn\u001b[0m \u001b[0mfn\u001b[0m\u001b[0;34m(\u001b[0m\u001b[0;34m*\u001b[0m\u001b[0margs\u001b[0m\u001b[0;34m,\u001b[0m \u001b[0;34m**\u001b[0m\u001b[0mkws\u001b[0m\u001b[0;34m)\u001b[0m\u001b[0;34m\u001b[0m\u001b[0m\n\u001b[0m\u001b[1;32m    213\u001b[0m \u001b[0;34m\u001b[0m\u001b[0m\n\u001b[1;32m    214\u001b[0m     \u001b[0;32mreturn\u001b[0m \u001b[0m_require_cuda_context\u001b[0m\u001b[0;34m\u001b[0m\u001b[0m\n",
      "\u001b[0;32m~/anaconda3/envs/DataScience/lib/python3.6/site-packages/numba/cuda/api.py\u001b[0m in \u001b[0;36mdevice_array\u001b[0;34m(shape, dtype, strides, order, stream)\u001b[0m\n\u001b[1;32m     72\u001b[0m                                                          order)\n\u001b[1;32m     73\u001b[0m     return devicearray.DeviceNDArray(shape=shape, strides=strides, dtype=dtype,\n\u001b[0;32m---> 74\u001b[0;31m                                      stream=stream)\n\u001b[0m\u001b[1;32m     75\u001b[0m \u001b[0;34m\u001b[0m\u001b[0m\n\u001b[1;32m     76\u001b[0m \u001b[0;34m\u001b[0m\u001b[0m\n",
      "\u001b[0;32m~/anaconda3/envs/DataScience/lib/python3.6/site-packages/numba/cuda/cudadrv/devicearray.py\u001b[0m in \u001b[0;36m__init__\u001b[0;34m(self, shape, strides, dtype, stream, writeback, gpu_data)\u001b[0m\n\u001b[1;32m     99\u001b[0m                                                                 \u001b[0mself\u001b[0m\u001b[0;34m.\u001b[0m\u001b[0mstrides\u001b[0m\u001b[0;34m,\u001b[0m\u001b[0;34m\u001b[0m\u001b[0m\n\u001b[1;32m    100\u001b[0m                                                                 self.dtype.itemsize)\n\u001b[0;32m--> 101\u001b[0;31m                 \u001b[0mgpu_data\u001b[0m \u001b[0;34m=\u001b[0m \u001b[0mdevices\u001b[0m\u001b[0;34m.\u001b[0m\u001b[0mget_context\u001b[0m\u001b[0;34m(\u001b[0m\u001b[0;34m)\u001b[0m\u001b[0;34m.\u001b[0m\u001b[0mmemalloc\u001b[0m\u001b[0;34m(\u001b[0m\u001b[0mself\u001b[0m\u001b[0;34m.\u001b[0m\u001b[0malloc_size\u001b[0m\u001b[0;34m)\u001b[0m\u001b[0;34m\u001b[0m\u001b[0m\n\u001b[0m\u001b[1;32m    102\u001b[0m             \u001b[0;32melse\u001b[0m\u001b[0;34m:\u001b[0m\u001b[0;34m\u001b[0m\u001b[0m\n\u001b[1;32m    103\u001b[0m                 \u001b[0mself\u001b[0m\u001b[0;34m.\u001b[0m\u001b[0malloc_size\u001b[0m \u001b[0;34m=\u001b[0m \u001b[0m_driver\u001b[0m\u001b[0;34m.\u001b[0m\u001b[0mdevice_memory_size\u001b[0m\u001b[0;34m(\u001b[0m\u001b[0mgpu_data\u001b[0m\u001b[0;34m)\u001b[0m\u001b[0;34m\u001b[0m\u001b[0m\n",
      "\u001b[0;32m~/anaconda3/envs/DataScience/lib/python3.6/site-packages/numba/cuda/cudadrv/driver.py\u001b[0m in \u001b[0;36mmemalloc\u001b[0;34m(self, bytesize)\u001b[0m\n\u001b[1;32m    671\u001b[0m             \u001b[0mdriver\u001b[0m\u001b[0;34m.\u001b[0m\u001b[0mcuMemAlloc\u001b[0m\u001b[0;34m(\u001b[0m\u001b[0mbyref\u001b[0m\u001b[0;34m(\u001b[0m\u001b[0mptr\u001b[0m\u001b[0;34m)\u001b[0m\u001b[0;34m,\u001b[0m \u001b[0mbytesize\u001b[0m\u001b[0;34m)\u001b[0m\u001b[0;34m\u001b[0m\u001b[0m\n\u001b[1;32m    672\u001b[0m \u001b[0;34m\u001b[0m\u001b[0m\n\u001b[0;32m--> 673\u001b[0;31m         \u001b[0mself\u001b[0m\u001b[0;34m.\u001b[0m\u001b[0m_attempt_allocation\u001b[0m\u001b[0;34m(\u001b[0m\u001b[0mallocator\u001b[0m\u001b[0;34m)\u001b[0m\u001b[0;34m\u001b[0m\u001b[0m\n\u001b[0m\u001b[1;32m    674\u001b[0m \u001b[0;34m\u001b[0m\u001b[0m\n\u001b[1;32m    675\u001b[0m         \u001b[0m_memory_finalizer\u001b[0m \u001b[0;34m=\u001b[0m \u001b[0m_make_mem_finalizer\u001b[0m\u001b[0;34m(\u001b[0m\u001b[0mdriver\u001b[0m\u001b[0;34m.\u001b[0m\u001b[0mcuMemFree\u001b[0m\u001b[0;34m,\u001b[0m \u001b[0mbytesize\u001b[0m\u001b[0;34m)\u001b[0m\u001b[0;34m\u001b[0m\u001b[0m\n",
      "\u001b[0;32m~/anaconda3/envs/DataScience/lib/python3.6/site-packages/numba/cuda/cudadrv/driver.py\u001b[0m in \u001b[0;36m_attempt_allocation\u001b[0;34m(self, allocator)\u001b[0m\n\u001b[1;32m    654\u001b[0m         \"\"\"\n\u001b[1;32m    655\u001b[0m         \u001b[0;32mtry\u001b[0m\u001b[0;34m:\u001b[0m\u001b[0;34m\u001b[0m\u001b[0m\n\u001b[0;32m--> 656\u001b[0;31m             \u001b[0mallocator\u001b[0m\u001b[0;34m(\u001b[0m\u001b[0;34m)\u001b[0m\u001b[0;34m\u001b[0m\u001b[0m\n\u001b[0m\u001b[1;32m    657\u001b[0m         \u001b[0;32mexcept\u001b[0m \u001b[0mCudaAPIError\u001b[0m \u001b[0;32mas\u001b[0m \u001b[0me\u001b[0m\u001b[0;34m:\u001b[0m\u001b[0;34m\u001b[0m\u001b[0m\n\u001b[1;32m    658\u001b[0m             \u001b[0;31m# is out-of-memory?\u001b[0m\u001b[0;34m\u001b[0m\u001b[0;34m\u001b[0m\u001b[0m\n",
      "\u001b[0;32m~/anaconda3/envs/DataScience/lib/python3.6/site-packages/numba/cuda/cudadrv/driver.py\u001b[0m in \u001b[0;36mallocator\u001b[0;34m()\u001b[0m\n\u001b[1;32m    669\u001b[0m \u001b[0;34m\u001b[0m\u001b[0m\n\u001b[1;32m    670\u001b[0m         \u001b[0;32mdef\u001b[0m \u001b[0mallocator\u001b[0m\u001b[0;34m(\u001b[0m\u001b[0;34m)\u001b[0m\u001b[0;34m:\u001b[0m\u001b[0;34m\u001b[0m\u001b[0m\n\u001b[0;32m--> 671\u001b[0;31m             \u001b[0mdriver\u001b[0m\u001b[0;34m.\u001b[0m\u001b[0mcuMemAlloc\u001b[0m\u001b[0;34m(\u001b[0m\u001b[0mbyref\u001b[0m\u001b[0;34m(\u001b[0m\u001b[0mptr\u001b[0m\u001b[0;34m)\u001b[0m\u001b[0;34m,\u001b[0m \u001b[0mbytesize\u001b[0m\u001b[0;34m)\u001b[0m\u001b[0;34m\u001b[0m\u001b[0m\n\u001b[0m\u001b[1;32m    672\u001b[0m \u001b[0;34m\u001b[0m\u001b[0m\n\u001b[1;32m    673\u001b[0m         \u001b[0mself\u001b[0m\u001b[0;34m.\u001b[0m\u001b[0m_attempt_allocation\u001b[0m\u001b[0;34m(\u001b[0m\u001b[0mallocator\u001b[0m\u001b[0;34m)\u001b[0m\u001b[0;34m\u001b[0m\u001b[0m\n",
      "\u001b[0;32m~/anaconda3/envs/DataScience/lib/python3.6/site-packages/numba/cuda/cudadrv/driver.py\u001b[0m in \u001b[0;36msafe_cuda_api_call\u001b[0;34m(*args)\u001b[0m\n\u001b[1;32m    286\u001b[0m             \u001b[0m_logger\u001b[0m\u001b[0;34m.\u001b[0m\u001b[0mdebug\u001b[0m\u001b[0;34m(\u001b[0m\u001b[0;34m'call driver api: %s'\u001b[0m\u001b[0;34m,\u001b[0m \u001b[0mlibfn\u001b[0m\u001b[0;34m.\u001b[0m\u001b[0m__name__\u001b[0m\u001b[0;34m)\u001b[0m\u001b[0;34m\u001b[0m\u001b[0m\n\u001b[1;32m    287\u001b[0m             \u001b[0mretcode\u001b[0m \u001b[0;34m=\u001b[0m \u001b[0mlibfn\u001b[0m\u001b[0;34m(\u001b[0m\u001b[0;34m*\u001b[0m\u001b[0margs\u001b[0m\u001b[0;34m)\u001b[0m\u001b[0;34m\u001b[0m\u001b[0m\n\u001b[0;32m--> 288\u001b[0;31m             \u001b[0mself\u001b[0m\u001b[0;34m.\u001b[0m\u001b[0m_check_error\u001b[0m\u001b[0;34m(\u001b[0m\u001b[0mfname\u001b[0m\u001b[0;34m,\u001b[0m \u001b[0mretcode\u001b[0m\u001b[0;34m)\u001b[0m\u001b[0;34m\u001b[0m\u001b[0m\n\u001b[0m\u001b[1;32m    289\u001b[0m         \u001b[0;32mreturn\u001b[0m \u001b[0msafe_cuda_api_call\u001b[0m\u001b[0;34m\u001b[0m\u001b[0m\n\u001b[1;32m    290\u001b[0m \u001b[0;34m\u001b[0m\u001b[0m\n",
      "\u001b[0;32m~/anaconda3/envs/DataScience/lib/python3.6/site-packages/numba/cuda/cudadrv/driver.py\u001b[0m in \u001b[0;36m_check_error\u001b[0;34m(self, fname, retcode)\u001b[0m\n\u001b[1;32m    321\u001b[0m                     \u001b[0m_logger\u001b[0m\u001b[0;34m.\u001b[0m\u001b[0mcritical\u001b[0m\u001b[0;34m(\u001b[0m\u001b[0mmsg\u001b[0m\u001b[0;34m,\u001b[0m \u001b[0m_getpid\u001b[0m\u001b[0;34m(\u001b[0m\u001b[0;34m)\u001b[0m\u001b[0;34m,\u001b[0m \u001b[0mself\u001b[0m\u001b[0;34m.\u001b[0m\u001b[0mpid\u001b[0m\u001b[0;34m)\u001b[0m\u001b[0;34m\u001b[0m\u001b[0m\n\u001b[1;32m    322\u001b[0m                     \u001b[0;32mraise\u001b[0m \u001b[0mCudaDriverError\u001b[0m\u001b[0;34m(\u001b[0m\u001b[0;34m\"CUDA initialized before forking\"\u001b[0m\u001b[0;34m)\u001b[0m\u001b[0;34m\u001b[0m\u001b[0m\n\u001b[0;32m--> 323\u001b[0;31m             \u001b[0;32mraise\u001b[0m \u001b[0mCudaAPIError\u001b[0m\u001b[0;34m(\u001b[0m\u001b[0mretcode\u001b[0m\u001b[0;34m,\u001b[0m \u001b[0mmsg\u001b[0m\u001b[0;34m)\u001b[0m\u001b[0;34m\u001b[0m\u001b[0m\n\u001b[0m\u001b[1;32m    324\u001b[0m \u001b[0;34m\u001b[0m\u001b[0m\n\u001b[1;32m    325\u001b[0m     \u001b[0;32mdef\u001b[0m \u001b[0mget_device\u001b[0m\u001b[0;34m(\u001b[0m\u001b[0mself\u001b[0m\u001b[0;34m,\u001b[0m \u001b[0mdevnum\u001b[0m\u001b[0;34m=\u001b[0m\u001b[0;36m0\u001b[0m\u001b[0;34m)\u001b[0m\u001b[0;34m:\u001b[0m\u001b[0;34m\u001b[0m\u001b[0m\n",
      "\u001b[0;31mCudaAPIError\u001b[0m: [999] Call to cuMemAlloc results in CUDA_ERROR_UNKNOWN"
     ]
    }
   ],
   "source": [
    "# def teste_v():\n",
    "#     index = list(data_set[data_set.rating.isna()].index)\n",
    "# #     print (index)\n",
    "#     df = data_set\n",
    "#     df[\"filme\"] = '-1'\n",
    "\n",
    "#     for i in range(0, len(index) - 1):\n",
    "#         df.iloc[index[i] + 1:index[i + 1], 3] = df.cust_id[index[i]].split(\":\")[0]\n",
    "\n",
    "#     df.iloc[index[-1] + 1:len(df), 3] = df.cust_id[index[-1]].split(\":\")[0]\n",
    "#     # # df = data_set\n",
    "#     # # df[\"filme\"] = 2\n",
    "#     # # df\n",
    "#     # df.iloc[index[0] + 1:index[1], 2] = 12\n",
    "#     # df.iloc[first + 1:index[i], 2] = df.Cust_Id[first].split(\":\")[0]\n",
    "#     df = df[~df.rating.isna()]\n",
    "#     print (len(df))\n",
    "def df():\n",
    "    indexes = list(df_gdf.query(\"rating != rating\").index)\n",
    "    def apply_filme(cust_id, filme):\n",
    "        tam = len(cust_id)\n",
    "#         print (tam, type(filme))\n",
    "#         for i in range(0, len(index)):\n",
    "#             filme[index[i]:index[i+1]] = cust_id[i]\n",
    "    df_gdf.apply_rows(apply_filme, incols=[\"cust_id\"], outcols={})\n",
    "    print (df_gdf.head(5).to_pandas())\n",
    "#     print (indexes)\n",
    "\n",
    "%time df()\n",
    "    "
   ]
  },
  {
   "cell_type": "code",
   "execution_count": 30,
   "metadata": {},
   "outputs": [
    {
     "name": "stdout",
     "output_type": "stream",
     "text": [
      "CPU times: user 4.7 ms, sys: 223 µs, total: 4.92 ms\n",
      "Wall time: 7.15 ms\n"
     ]
    }
   ],
   "source": [
    "def ds():\n",
    "    indexes = list(gdf.query(\"rating != rating\").index)\n",
    "#     print (indexes)\n",
    "    \n",
    "%time ds()"
   ]
  },
  {
   "cell_type": "code",
   "execution_count": null,
   "metadata": {},
   "outputs": [],
   "source": []
  }
 ],
 "metadata": {
  "kernelspec": {
   "display_name": "Python 3",
   "language": "python",
   "name": "python3"
  },
  "language_info": {
   "codemirror_mode": {
    "name": "ipython",
    "version": 3
   },
   "file_extension": ".py",
   "mimetype": "text/x-python",
   "name": "python",
   "nbconvert_exporter": "python",
   "pygments_lexer": "ipython3",
   "version": "3.6.5"
  }
 },
 "nbformat": 4,
 "nbformat_minor": 2
}
