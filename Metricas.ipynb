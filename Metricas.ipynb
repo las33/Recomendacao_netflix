{
 "cells": [
  {
   "cell_type": "code",
   "execution_count": 4,
   "metadata": {},
   "outputs": [],
   "source": [
    "import sklearn\n",
    "import json\n",
    "from math import sqrt\n",
    "from sklearn.metrics import mean_absolute_error\n",
    "from sklearn.metrics import mean_squared_error\n",
    "\n",
    "valor_verdade = []\n",
    "valor_previsto = []\n",
    "\n",
    "with open('test.json') as f:\n",
    "    test = json.load(f)\n",
    "    \n",
    "with open('predicao_05.json') as p:\n",
    "    predicoes = json.load(p)\n",
    "    \n",
    "for user in test:\n",
    "    for filme in user[\"filmes\"]:\n",
    "        valor_verdade.append(int(filme[\"avaliacao\"]))\n",
    "    \n",
    "for user in predicoes:\n",
    "    for filme in user[\"filmes\"]:\n",
    "        valor_previsto.append(round(float(filme[\"predicao\"])))\n"
   ]
  },
  {
   "cell_type": "markdown",
   "metadata": {},
   "source": [
    "MEAN ABSOLUTE ERROR "
   ]
  },
  {
   "cell_type": "code",
   "execution_count": 5,
   "metadata": {
    "scrolled": true
   },
   "outputs": [
    {
     "data": {
      "text/plain": [
       "0.9140589088844755"
      ]
     },
     "execution_count": 5,
     "metadata": {},
     "output_type": "execute_result"
    }
   ],
   "source": [
    "import numpy as np\n",
    "\n",
    "y_true = np.array(valor_verdade)\n",
    "y_scores = np.array(valor_previsto)\n",
    "\n",
    "mean_absolute_error(y_true, y_scores)\n",
    "\n",
    "#mean_absolute_error(valor_verdade, valor_previsto)\n"
   ]
  },
  {
   "cell_type": "markdown",
   "metadata": {},
   "source": [
    "ROOT MEAN SQUARED ERROR"
   ]
  },
  {
   "cell_type": "code",
   "execution_count": 7,
   "metadata": {
    "scrolled": true
   },
   "outputs": [
    {
     "data": {
      "text/plain": [
       "0.9140589088844755"
      ]
     },
     "execution_count": 7,
     "metadata": {},
     "output_type": "execute_result"
    }
   ],
   "source": [
    "sqrt(mean_squared_error(y_true, y_scores))\n"
   ]
  },
  {
   "cell_type": "markdown",
   "metadata": {},
   "source": [
    "CURVA ROC"
   ]
  },
  {
   "cell_type": "code",
   "execution_count": 28,
   "metadata": {},
   "outputs": [
    {
     "data": {
      "image/png": "[encoded data removed]",
      "text/plain": [
       "<Figure size 432x288 with 1 Axes>"
      ]
     },
     "metadata": {},
     "output_type": "display_data"
    }
   ],
   "source": [
    "import matplotlib.pyplot as plt\n",
    "from sklearn.metrics import roc_auc_score, roc_curve\n",
    "\n",
    "rec_true = []\n",
    "rec_scores = []\n",
    "\n",
    "for each in y_true:\n",
    "    rec_true.append(each >= 4)\n",
    "    \n",
    "for each in y_scores:\n",
    "    rec_scores.append(each >= 4)\n",
    "    \n",
    "roc_area = roc_auc_score(rec_true, rec_scores)\n",
    "\n",
    "fpr, tpr, _ = roc_curve(rec_true, rec_scores)\n",
    "\n",
    "plt.figure()\n",
    "lw = 2\n",
    "plt.plot(fpr, tpr, color='darkorange',\n",
    "         lw=lw, label='curva ROC (area = %0.5f)' % roc_area)\n",
    "plt.plot([0, 1], [0, 1], color='navy', lw=lw, linestyle='--')\n",
    "plt.xlim([0.0, 1.0])\n",
    "plt.ylim([0.0, 1.05])\n",
    "plt.xlabel('Taxa de Falsos Positivos')\n",
    "plt.ylabel('Taxa de Verdadeiros Positivos')\n",
    "plt.title('Curva ROC para o Classificador')\n",
    "plt.legend(loc=\"lower right\")\n",
    "plt.show()"
   ]
  },
  {
   "cell_type": "markdown",
   "metadata": {},
   "source": [
    "MATRIZ DE CONFUSÃO"
   ]
  },
  {
   "cell_type": "code",
   "execution_count": 20,
   "metadata": {},
   "outputs": [
    {
     "data": {
      "text/plain": [
       "array([[39903, 21520],\n",
       "       [18626, 64167]])"
      ]
     },
     "execution_count": 20,
     "metadata": {},
     "output_type": "execute_result"
    }
   ],
   "source": [
    "from sklearn.metrics import confusion_matrix\n",
    "\n",
    "## diagonal são os verdadeiros positivos pra cada classe (1,2,3,4,5)\n",
    "cfm = confusion_matrix(rec_true, rec_scores)\n",
    "tn, fp, fn, tp = cfm.ravel()\n",
    "cfm\n",
    "\n",
    "#DESCOMENTA A LINHA QUANDO TIVER O VALOR PREVISTO\n",
    "#confusion_matrix(valor_verdade, valor_previsto)\n"
   ]
  },
  {
   "cell_type": "markdown",
   "metadata": {
    "collapsed": true
   },
   "source": [
    "TRUE POSITIVE RATE (TPR)"
   ]
  },
  {
   "cell_type": "code",
   "execution_count": 23,
   "metadata": {},
   "outputs": [
    {
     "data": {
      "text/plain": [
       "0.7750292899158141"
      ]
     },
     "execution_count": 23,
     "metadata": {},
     "output_type": "execute_result"
    }
   ],
   "source": [
    "tpr = float(tp)/(tp+fn)\n",
    "tpr\n"
   ]
  },
  {
   "cell_type": "markdown",
   "metadata": {},
   "source": [
    "PRECISION OR POSITIVE PREDICTIVE VALUE (PPV)"
   ]
  },
  {
   "cell_type": "code",
   "execution_count": 24,
   "metadata": {},
   "outputs": [
    {
     "data": {
      "text/plain": [
       "0.7488533849942232"
      ]
     },
     "execution_count": 24,
     "metadata": {},
     "output_type": "execute_result"
    }
   ],
   "source": [
    "ppv = float(tp)/(tp + fp)\n",
    "ppv\n"
   ]
  },
  {
   "cell_type": "code",
   "execution_count": null,
   "metadata": {},
   "outputs": [],
   "source": []
  }
 ],
 "metadata": {
  "kernelspec": {
   "display_name": "Python 2",
   "language": "python",
   "name": "python2"
  },
  "language_info": {
   "codemirror_mode": {
    "name": "ipython",
    "version": 2
   },
   "file_extension": ".py",
   "mimetype": "text/x-python",
   "name": "python",
   "nbconvert_exporter": "python",
   "pygments_lexer": "ipython2",
   "version": "2.7.15"
  }
 },
 "nbformat": 4,
 "nbformat_minor": 2
}
